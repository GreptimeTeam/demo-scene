{
 "cells": [
  {
   "cell_type": "markdown",
   "id": "64481733-7157-4abb-a178-1b54d76b53ce",
   "metadata": {},
   "source": [
    "# Prerequisite"
   ]
  },
  {
   "cell_type": "code",
   "execution_count": null,
   "id": "36f932b5-98d6-4ba4-aed1-d7b2b0af02b6",
   "metadata": {},
   "outputs": [],
   "source": [
    "%pip install torch transformers ipyplot datasets pymysql"
   ]
  },
  {
   "cell_type": "markdown",
   "id": "448ddbdc-1746-4a89-b83e-2cc07b69a2ec",
   "metadata": {},
   "source": [
    "# Init Connection"
   ]
  },
  {
   "cell_type": "code",
   "execution_count": null,
   "id": "cb426d5d-324b-4b01-8a66-15ac36228493",
   "metadata": {},
   "outputs": [],
   "source": [
    "import pymysql\n",
    "def get_connection():\n",
    "    connection = pymysql.connect(\n",
    "        host = \"127.0.0.1\",\n",
    "        port = 4002,\n",
    "        user = \"root\",\n",
    "        database = \"public\",\n",
    "    )\n",
    "    return connection\n",
    "c = get_connection()\n",
    "cursor = c.cursor()"
   ]
  },
  {
   "cell_type": "markdown",
   "id": "00c951b3-6406-496e-a734-1f7dbd3bd5b4",
   "metadata": {},
   "source": [
    "# Create Table with Vector Column"
   ]
  },
  {
   "cell_type": "code",
   "execution_count": null,
   "id": "44f36a5d-0dca-473a-bdaf-292e1fe907f2",
   "metadata": {},
   "outputs": [],
   "source": [
    "cursor.execute(\"\"\"\n",
    "CREATE TABLE IF NOT EXISTS embedded_images(\n",
    "    ts TIMESTAMP TIME INDEX DEFAULT CURRENT_TIMESTAMP,\n",
    "    image_id INT PRIMARY KEY,\n",
    "    embedding VECTOR(512));\n",
    "\"\"\"\n",
    ")"
   ]
  },
  {
   "cell_type": "markdown",
   "id": "8a8b2901-a260-4f89-91e9-b66bcb12aa2f",
   "metadata": {},
   "source": [
    "# Prepare Model and Dataset"
   ]
  },
  {
   "cell_type": "markdown",
   "id": "e933fc0a-826b-4727-a537-8a3af38d3d3e",
   "metadata": {},
   "source": [
    "Note that loading the model may take minutes."
   ]
  },
  {
   "cell_type": "code",
   "execution_count": null,
   "id": "f67c9fa0-9e71-4b16-adc8-920e9d45e1b4",
   "metadata": {},
   "outputs": [],
   "source": [
    "import torch\n",
    "from transformers import CLIPProcessor, CLIPModel\n",
    "import datasets\n",
    "\n",
    "model = CLIPModel.from_pretrained(\"openai/clip-vit-base-patch32\")\n",
    "processor = CLIPProcessor.from_pretrained(\"openai/clip-vit-base-patch32\")\n",
    "\n",
    "imagenet_datasets = datasets.load_dataset('theodor1289/imagenet-1k_tiny', split='train')\n",
    "\n",
    "def encode_images_to_embeddings(images):\n",
    "    # accept a list of images and return the image embeddings\n",
    "    with torch.no_grad():\n",
    "        inputs = processor(images=images, return_tensors=\"pt\")\n",
    "        image_features = model.get_image_features(**inputs)\n",
    "        return image_features.cpu().detach().numpy()\n",
    "\n",
    "def encode_text_to_embedding(text):\n",
    "    # accept a text and return the text embedding\n",
    "    with torch.no_grad():\n",
    "        inputs = processor(text=text, return_tensors=\"pt\")\n",
    "        text_features = model.get_text_features(**inputs)\n",
    "        return text_features.cpu().detach().numpy()[0]"
   ]
  },
  {
   "cell_type": "markdown",
   "id": "f6094057-7f14-4844-842a-93f61ddc682c",
   "metadata": {},
   "source": [
    "# Inspect Images"
   ]
  },
  {
   "cell_type": "markdown",
   "id": "8d7e5ced-78b4-4e64-9af3-f2bd39447f85",
   "metadata": {},
   "source": [
    "Inspect sample of the datasets."
   ]
  },
  {
   "cell_type": "code",
   "execution_count": null,
   "id": "79dd8f57-5139-4d7c-b7d2-35894af316ee",
   "metadata": {},
   "outputs": [],
   "source": [
    "imagenet_datasets[0]"
   ]
  },
  {
   "cell_type": "markdown",
   "id": "f13eb8ae-c1cb-425e-8aee-608bd9a951a3",
   "metadata": {},
   "source": [
    "Inspect sample of images."
   ]
  },
  {
   "cell_type": "code",
   "execution_count": null,
   "id": "9e824174-6ea2-4c54-b7be-a97b4f965d21",
   "metadata": {},
   "outputs": [],
   "source": [
    "import ipyplot\n",
    "\n",
    "imagenet_images = [i['image'] for i in imagenet_datasets]\n",
    "ipyplot.plot_images(imagenet_images, max_images=20, img_width=100)"
   ]
  },
  {
   "cell_type": "markdown",
   "id": "8406c485-dc79-421f-8608-3bc4f2c30a29",
   "metadata": {},
   "source": [
    "# Store Embedding into Vector Table"
   ]
  },
  {
   "cell_type": "code",
   "execution_count": null,
   "id": "e55c46d0-593f-433c-84bf-35d93a35549f",
   "metadata": {},
   "outputs": [],
   "source": [
    "def embedding_s(embedding):\n",
    "    return f\"[{','.join(map(str, embedding))}]\"\n",
    "\n",
    "def insert_image(i):\n",
    "    embedding = embedding_s(images_embedding[i])\n",
    "    cursor.execute(f\"\"\"\n",
    "INSERT INTO embedded_images VALUES (DEFAULT, {i}, '{embedding}');\n",
    "    \"\"\");\n",
    "\n",
    "images_embedding = encode_images_to_embeddings(imagenet_images)\n",
    "\n",
    "for i in range(len(images_embedding)):\n",
    "    insert_image(i)"
   ]
  },
  {
   "cell_type": "markdown",
   "id": "f1cb9181-ec97-4a68-8e06-6a2e161b4308",
   "metadata": {},
   "source": [
    "# Search"
   ]
  },
  {
   "cell_type": "code",
   "execution_count": null,
   "id": "0171a01f-59ea-478d-8d2a-8c9158405e4e",
   "metadata": {},
   "outputs": [],
   "source": [
    "def search(query, k):\n",
    "    query_embedding = embedding_s(encode_text_to_embedding(query))\n",
    "    cursor.execute(f\"\"\"\n",
    "SELECT image_id, vec_cos_distance(embedding, '{query_embedding}') AS distance\n",
    "FROM embedded_images\n",
    "ORDER BY distance\n",
    "LIMIT {k};\n",
    "    \"\"\");\n",
    "    return cursor.fetchall()\n",
    "\n",
    "res = search(\"dog\", 5)\n",
    "similar_images = []\n",
    "similarities = []\n",
    "\n",
    "for image_id, d in res:\n",
    "    similar_images.append(imagenet_images[image_id])\n",
    "    similarities.append(round(1 - d, 3))\n",
    "\n",
    "ipyplot.plot_images(similar_images, labels=similarities, img_width=100)"
   ]
  }
 ],
 "metadata": {
  "kernelspec": {
   "display_name": "Python 3 (ipykernel)",
   "language": "python",
   "name": "python3"
  },
  "language_info": {
   "codemirror_mode": {
    "name": "ipython",
    "version": 3
   },
   "file_extension": ".py",
   "mimetype": "text/x-python",
   "name": "python",
   "nbconvert_exporter": "python",
   "pygments_lexer": "ipython3",
   "version": "3.8.10"
  }
 },
 "nbformat": 4,
 "nbformat_minor": 5
}
